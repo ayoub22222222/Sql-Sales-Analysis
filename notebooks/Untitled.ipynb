{
 "cells": [
  {
   "cell_type": "code",
   "execution_count": 1,
   "id": "539cc153-b532-438d-b035-3993ce3da611",
   "metadata": {},
   "outputs": [],
   "source": [
    "import mysql.connector as sql\n",
    "from tabulate import tabulate\n",
    "import pandas as pd"
   ]
  },
  {
   "cell_type": "code",
   "execution_count": 2,
   "id": "793f9437-d40b-4369-8547-9530d8b4255a",
   "metadata": {},
   "outputs": [],
   "source": [
    "connection = sql.connect(\n",
    "    host=\"localhost\",\n",
    "    user=\"root\",\n",
    "    password=\"Ayoub1111\",\n",
    "    allow_local_infile=True,\n",
    "    use_pure=True\n",
    ")"
   ]
  },
  {
   "cell_type": "code",
   "execution_count": 3,
   "id": "3a891905-962e-475d-b424-c3b00e097fef",
   "metadata": {},
   "outputs": [],
   "source": [
    "cursor = connection.cursor()"
   ]
  },
  {
   "cell_type": "code",
   "execution_count": 4,
   "id": "45b71db8-3601-4f35-b1eb-49484c765c54",
   "metadata": {},
   "outputs": [],
   "source": [
    "cursor.execute(\"CREATE DATABASE IF NOT EXISTS product_sales\")"
   ]
  },
  {
   "cell_type": "code",
   "execution_count": 5,
   "id": "1b4ae647-87b3-4e6b-9cc1-7633a1dc057d",
   "metadata": {},
   "outputs": [],
   "source": [
    "cursor.execute('use product_sales')"
   ]
  },
  {
   "cell_type": "code",
   "execution_count": 6,
   "id": "56f4f429-3bbe-42eb-a68d-1c90fbd3225b",
   "metadata": {},
   "outputs": [],
   "source": [
    "create_table_query = \"\"\"\n",
    "    CREATE TABLE IF NOT EXISTS discount (\n",
    "        Month VARCHAR(255) NOT NULL,\n",
    "        Discount_Band VARCHAR(255) NOT NULL,\n",
    "        Discount INT NOT NULL\n",
    ");\n",
    "\"\"\"\n",
    "\n",
    "cursor.execute(create_table_query)"
   ]
  },
  {
   "cell_type": "code",
   "execution_count": 7,
   "id": "b6258c0c-8fe5-4ead-b927-4d0526c8a6da",
   "metadata": {},
   "outputs": [],
   "source": [
    "connection.commit()"
   ]
  },
  {
   "cell_type": "code",
   "execution_count": 8,
   "id": "2d85dda8-3add-492a-a89d-f264dc889cf3",
   "metadata": {},
   "outputs": [],
   "source": [
    "file_path = '/home/hp/Sql-Sales-Analysis/data/discount_data.csv'\n",
    "cursor.execute(\n",
    "    f\"\"\"\n",
    "    LOAD DATA LOCAL INFILE '{file_path}'\n",
    "    INTO TABLE discount\n",
    "    FIELDS TERMINATED BY ','\n",
    "    ENCLOSED BY '\"'\n",
    "    LINES TERMINATED BY '\\n'\n",
    "    IGNORE 1 LINES\n",
    "    (Month, Discount_Band, Discount)\n",
    "    \"\"\")\n"
   ]
  },
  {
   "cell_type": "code",
   "execution_count": 9,
   "id": "72c6bd74-4cd1-4053-a4a4-f4bf7928adaa",
   "metadata": {},
   "outputs": [],
   "source": [
    "connection.commit()"
   ]
  },
  {
   "cell_type": "code",
   "execution_count": 10,
   "id": "1f0d519e-224b-44d6-973e-15e329ab6e1f",
   "metadata": {},
   "outputs": [],
   "source": [
    "cursor.execute(\"SHOW TABLES LIKE 'discount'\")"
   ]
  },
  {
   "cell_type": "code",
   "execution_count": 11,
   "id": "7e150390-625b-466d-89c0-b32e31e43754",
   "metadata": {},
   "outputs": [],
   "source": [
    "result = cursor.fetchone()"
   ]
  },
  {
   "cell_type": "code",
   "execution_count": 12,
   "id": "3b4ea650-ba6f-4dbe-b01b-8228445e5b9e",
   "metadata": {},
   "outputs": [
    {
     "name": "stdout",
     "output_type": "stream",
     "text": [
      "table exists\n"
     ]
    }
   ],
   "source": [
    "if result:\n",
    "    print(\"table exists\")\n",
    "else:\n",
    "    print(\"table not exists\")"
   ]
  },
  {
   "cell_type": "code",
   "execution_count": 13,
   "id": "41e3fecd-ab7d-402e-978d-5ae4fc9544f0",
   "metadata": {},
   "outputs": [],
   "source": [
    "table_name = 'discount'"
   ]
  },
  {
   "cell_type": "code",
   "execution_count": 14,
   "id": "c6ad0d64-0f53-489f-84cf-529737cc4ccd",
   "metadata": {},
   "outputs": [],
   "source": [
    "query = f\"SELECT * FROM {table_name}\""
   ]
  },
  {
   "cell_type": "code",
   "execution_count": 15,
   "id": "2a6ea031-813a-4134-890a-fd6c57c4989e",
   "metadata": {},
   "outputs": [],
   "source": [
    "cursor.execute(query)\n",
    " "
   ]
  },
  {
   "cell_type": "code",
   "execution_count": 16,
   "id": "ff20d72f-a04f-4e6d-8b7b-946234c49d3f",
   "metadata": {},
   "outputs": [],
   "source": [
    "result = cursor.fetchall()"
   ]
  },
  {
   "cell_type": "code",
   "execution_count": 17,
   "id": "a71773c4-6a38-4895-bdb7-aa73adb21345",
   "metadata": {},
   "outputs": [],
   "source": [
    "product_query = \"\"\"\n",
    "    CREATE TABLE IF NOT EXISTS Products (\n",
    "        ProductID VARCHAR(50) NOT NULL,\n",
    "        Product VARCHAR(255) NOT NULL,\n",
    "        Category VARCHAR(255) NOT NULL,\n",
    "        Cost_Price VARCHAR(255) NOT NULL,\n",
    "        Sale_Price VARCHAR(255) NOT NULL,\n",
    "        Brand VARCHAR(255) NOT NULL,\n",
    "        Description VARCHAR(255) NOT NULL,\n",
    "        Image_url VARCHAR(255) NOT NULL\n",
    ");\n",
    "\"\"\""
   ]
  },
  {
   "cell_type": "code",
   "execution_count": 18,
   "id": "8bc8cd43-e01e-4129-9865-10dbe911e047",
   "metadata": {},
   "outputs": [],
   "source": [
    "cursor.execute(product_query)"
   ]
  },
  {
   "cell_type": "code",
   "execution_count": 19,
   "id": "654317ab-c385-41ac-a93d-6d4928252382",
   "metadata": {},
   "outputs": [],
   "source": [
    "connection.commit()"
   ]
  },
  {
   "cell_type": "code",
   "execution_count": 20,
   "id": "f329a07d-9854-459c-a70c-57253be1b2a0",
   "metadata": {},
   "outputs": [],
   "source": [
    "file_path = '/home/hp/Sql-Sales-Analysis/data/Product_data.csv'\n",
    "cursor.execute(\n",
    "    f\"\"\"\n",
    "    LOAD DATA LOCAL INFILE '{file_path}'\n",
    "    INTO TABLE Products\n",
    "    CHARACTER SET utf8mb4\n",
    "    FIELDS TERMINATED BY ','\n",
    "    ENCLOSED BY '\"'\n",
    "    LINES TERMINATED BY '\\n'\n",
    "    IGNORE 1 LINES \n",
    "    (ProductID, Product, Category, Cost_Price, Sale_Price, Brand, Description, Image_url)\n",
    "    \"\"\")\n"
   ]
  },
  {
   "cell_type": "code",
   "execution_count": 21,
   "id": "03cb44c7-4673-46b3-a2cd-ccac4c33a22e",
   "metadata": {},
   "outputs": [],
   "source": [
    "connection.commit()"
   ]
  },
  {
   "cell_type": "code",
   "execution_count": 22,
   "id": "10312766-209d-4c7d-80d7-f22966b3e09f",
   "metadata": {},
   "outputs": [],
   "source": [
    "# create another tabe \n",
    "product_sales_table = \"\"\"\n",
    "    CREATE TABLE IF NOT EXISTS ProductSales (\n",
    "        SalesDate VARCHAR(255) NOT NULL,\n",
    "        Customer_type VARCHAR(255) NOT NULL,\n",
    "        Country VARCHAR(255) NOT NULL,\n",
    "        Product VARCHAR(255) NOT NULL,\n",
    "        Discount_Band VARCHAR(255) NOT NULL,\n",
    "        Units_Sold INT NOT NULL\n",
    "    );\n",
    "\"\"\"\n",
    "cursor.execute(product_sales_table)"
   ]
  },
  {
   "cell_type": "code",
   "execution_count": 23,
   "id": "a4b8403e-4000-4559-bdfa-40b476806907",
   "metadata": {},
   "outputs": [],
   "source": [
    "file_path = '/home/hp/Sql-Sales-Analysis/data/product_sales.csv'\n",
    "cursor.execute(\n",
    "    f\"\"\"\n",
    "    LOAD DATA LOCAL INFILE '{file_path}'\n",
    "    INTO TABLE ProductSales\n",
    "    CHARACTER SET utf8mb4\n",
    "    FIELDS TERMINATED BY ','\n",
    "    ENCLOSED BY '\"'\n",
    "    LINES TERMINATED BY '\\r\\n'\n",
    "    IGNORE 1 LINES \n",
    "    (SalesDate, Customer_type, Country, Product, Discount_Band, Units_Sold)\n",
    "    \"\"\")"
   ]
  },
  {
   "cell_type": "code",
   "execution_count": 24,
   "id": "ca7549e3-da26-4670-994e-f1b310181876",
   "metadata": {},
   "outputs": [],
   "source": [
    "connection.commit()"
   ]
  },
  {
   "cell_type": "markdown",
   "id": "6ce3fb8e-7596-4b2b-8a2c-a9ca976e6132",
   "metadata": {},
   "source": [
    "# querying the data "
   ]
  },
  {
   "cell_type": "code",
   "execution_count": 25,
   "id": "f2111b8e-b459-48ff-8527-a6e39dd2b1c1",
   "metadata": {},
   "outputs": [],
   "source": [
    "query1 = \"SELECT * FROM ProductSales\"\n",
    "query2= \"SELECT * FROM discount\"\n",
    "query3 = \"SELECT * FROM Products\""
   ]
  },
  {
   "cell_type": "code",
   "execution_count": 26,
   "id": "0524d80a-39d9-46d7-a41f-2006735cfe3f",
   "metadata": {},
   "outputs": [
    {
     "name": "stderr",
     "output_type": "stream",
     "text": [
      "/tmp/ipykernel_10668/2324045424.py:1: UserWarning: pandas only supports SQLAlchemy connectable (engine/connection) or database string URI or sqlite3 DBAPI2 connection. Other DBAPI2 objects are not tested. Please consider using SQLAlchemy.\n",
      "  sales_table = pd.read_sql(query1, connection)\n",
      "/tmp/ipykernel_10668/2324045424.py:2: UserWarning: pandas only supports SQLAlchemy connectable (engine/connection) or database string URI or sqlite3 DBAPI2 connection. Other DBAPI2 objects are not tested. Please consider using SQLAlchemy.\n",
      "  discount_table = pd.read_sql(query2, connection)\n",
      "/tmp/ipykernel_10668/2324045424.py:3: UserWarning: pandas only supports SQLAlchemy connectable (engine/connection) or database string URI or sqlite3 DBAPI2 connection. Other DBAPI2 objects are not tested. Please consider using SQLAlchemy.\n",
      "  product_table = pd.read_sql(query3, connection)\n"
     ]
    }
   ],
   "source": [
    "sales_table = pd.read_sql(query1, connection)\n",
    "discount_table = pd.read_sql(query2, connection)\n",
    "product_table = pd.read_sql(query3, connection)"
   ]
  },
  {
   "cell_type": "code",
   "execution_count": 27,
   "id": "eac12a42-d8ca-4093-a9b3-c0588d8d0349",
   "metadata": {},
   "outputs": [
    {
     "data": {
      "text/html": [
       "<div>\n",
       "<style scoped>\n",
       "    .dataframe tbody tr th:only-of-type {\n",
       "        vertical-align: middle;\n",
       "    }\n",
       "\n",
       "    .dataframe tbody tr th {\n",
       "        vertical-align: top;\n",
       "    }\n",
       "\n",
       "    .dataframe thead th {\n",
       "        text-align: right;\n",
       "    }\n",
       "</style>\n",
       "<table border=\"1\" class=\"dataframe\">\n",
       "  <thead>\n",
       "    <tr style=\"text-align: right;\">\n",
       "      <th></th>\n",
       "      <th>SalesDate</th>\n",
       "      <th>Customer_type</th>\n",
       "      <th>Country</th>\n",
       "      <th>Product</th>\n",
       "      <th>Discount_Band</th>\n",
       "      <th>Units_Sold</th>\n",
       "    </tr>\n",
       "  </thead>\n",
       "  <tbody>\n",
       "    <tr>\n",
       "      <th>0</th>\n",
       "      <td>2023-12-01</td>\n",
       "      <td>Government</td>\n",
       "      <td>Germany</td>\n",
       "      <td>SR1001</td>\n",
       "      <td>None</td>\n",
       "      <td>15</td>\n",
       "    </tr>\n",
       "    <tr>\n",
       "      <th>1</th>\n",
       "      <td>2023-12-01</td>\n",
       "      <td>Education</td>\n",
       "      <td>United States of America</td>\n",
       "      <td>RR10020</td>\n",
       "      <td>None</td>\n",
       "      <td>6</td>\n",
       "    </tr>\n",
       "    <tr>\n",
       "      <th>2</th>\n",
       "      <td>2023-12-01</td>\n",
       "      <td>Government</td>\n",
       "      <td>Canada</td>\n",
       "      <td>FR10021</td>\n",
       "      <td>None</td>\n",
       "      <td>18</td>\n",
       "    </tr>\n",
       "    <tr>\n",
       "      <th>3</th>\n",
       "      <td>2023-12-01</td>\n",
       "      <td>Government</td>\n",
       "      <td>Germany</td>\n",
       "      <td>FR10021</td>\n",
       "      <td>None</td>\n",
       "      <td>15</td>\n",
       "    </tr>\n",
       "    <tr>\n",
       "      <th>4</th>\n",
       "      <td>2023-12-01</td>\n",
       "      <td>Government</td>\n",
       "      <td>Canada</td>\n",
       "      <td>HY1004</td>\n",
       "      <td>None</td>\n",
       "      <td>18</td>\n",
       "    </tr>\n",
       "  </tbody>\n",
       "</table>\n",
       "</div>"
      ],
      "text/plain": [
       "    SalesDate Customer_type                   Country  Product Discount_Band  \\\n",
       "0  2023-12-01    Government                   Germany   SR1001         None    \n",
       "1  2023-12-01     Education  United States of America  RR10020         None    \n",
       "2  2023-12-01    Government                    Canada  FR10021         None    \n",
       "3  2023-12-01    Government                   Germany  FR10021         None    \n",
       "4  2023-12-01    Government                    Canada   HY1004         None    \n",
       "\n",
       "   Units_Sold  \n",
       "0          15  \n",
       "1           6  \n",
       "2          18  \n",
       "3          15  \n",
       "4          18  "
      ]
     },
     "execution_count": 27,
     "metadata": {},
     "output_type": "execute_result"
    }
   ],
   "source": [
    "sales_table.head()"
   ]
  },
  {
   "cell_type": "code",
   "execution_count": 28,
   "id": "88521f04-c8cd-44df-a5e4-0a74c3511b18",
   "metadata": {},
   "outputs": [
    {
     "name": "stdout",
     "output_type": "stream",
     "text": [
      "<class 'pandas.core.frame.DataFrame'>\n",
      "RangeIndex: 3138 entries, 0 to 3137\n",
      "Data columns (total 6 columns):\n",
      " #   Column         Non-Null Count  Dtype \n",
      "---  ------         --------------  ----- \n",
      " 0   SalesDate      1046 non-null   object\n",
      " 1   Customer_type  3138 non-null   object\n",
      " 2   Country        3138 non-null   object\n",
      " 3   Product        3138 non-null   object\n",
      " 4   Discount_Band  3138 non-null   object\n",
      " 5   Units_Sold     3138 non-null   int64 \n",
      "dtypes: int64(1), object(5)\n",
      "memory usage: 147.2+ KB\n"
     ]
    }
   ],
   "source": [
    "sales_table.info()"
   ]
  },
  {
   "cell_type": "code",
   "execution_count": 29,
   "id": "db620262-08e7-4e77-9251-2b73e0ab86e0",
   "metadata": {},
   "outputs": [],
   "source": [
    "# convert SalesDate column into Date time \n",
    "sales_table['SalesDate'] = pd.to_datetime(sales_table['SalesDate'])"
   ]
  },
  {
   "cell_type": "code",
   "execution_count": 30,
   "id": "385459e6-09aa-41f8-a35e-32542264abe6",
   "metadata": {},
   "outputs": [
    {
     "data": {
      "text/html": [
       "<div>\n",
       "<style scoped>\n",
       "    .dataframe tbody tr th:only-of-type {\n",
       "        vertical-align: middle;\n",
       "    }\n",
       "\n",
       "    .dataframe tbody tr th {\n",
       "        vertical-align: top;\n",
       "    }\n",
       "\n",
       "    .dataframe thead th {\n",
       "        text-align: right;\n",
       "    }\n",
       "</style>\n",
       "<table border=\"1\" class=\"dataframe\">\n",
       "  <thead>\n",
       "    <tr style=\"text-align: right;\">\n",
       "      <th></th>\n",
       "      <th>SalesDate</th>\n",
       "      <th>Customer_type</th>\n",
       "      <th>Country</th>\n",
       "      <th>Product</th>\n",
       "      <th>Discount_Band</th>\n",
       "      <th>Units_Sold</th>\n",
       "    </tr>\n",
       "  </thead>\n",
       "  <tbody>\n",
       "    <tr>\n",
       "      <th>0</th>\n",
       "      <td>2023-12-01</td>\n",
       "      <td>Government</td>\n",
       "      <td>Germany</td>\n",
       "      <td>SR1001</td>\n",
       "      <td>None</td>\n",
       "      <td>15</td>\n",
       "    </tr>\n",
       "    <tr>\n",
       "      <th>1</th>\n",
       "      <td>2023-12-01</td>\n",
       "      <td>Education</td>\n",
       "      <td>United States of America</td>\n",
       "      <td>RR10020</td>\n",
       "      <td>None</td>\n",
       "      <td>6</td>\n",
       "    </tr>\n",
       "    <tr>\n",
       "      <th>2</th>\n",
       "      <td>2023-12-01</td>\n",
       "      <td>Government</td>\n",
       "      <td>Canada</td>\n",
       "      <td>FR10021</td>\n",
       "      <td>None</td>\n",
       "      <td>18</td>\n",
       "    </tr>\n",
       "    <tr>\n",
       "      <th>3</th>\n",
       "      <td>2023-12-01</td>\n",
       "      <td>Government</td>\n",
       "      <td>Germany</td>\n",
       "      <td>FR10021</td>\n",
       "      <td>None</td>\n",
       "      <td>15</td>\n",
       "    </tr>\n",
       "    <tr>\n",
       "      <th>4</th>\n",
       "      <td>2023-12-01</td>\n",
       "      <td>Government</td>\n",
       "      <td>Canada</td>\n",
       "      <td>HY1004</td>\n",
       "      <td>None</td>\n",
       "      <td>18</td>\n",
       "    </tr>\n",
       "  </tbody>\n",
       "</table>\n",
       "</div>"
      ],
      "text/plain": [
       "   SalesDate Customer_type                   Country  Product Discount_Band  \\\n",
       "0 2023-12-01    Government                   Germany   SR1001         None    \n",
       "1 2023-12-01     Education  United States of America  RR10020         None    \n",
       "2 2023-12-01    Government                    Canada  FR10021         None    \n",
       "3 2023-12-01    Government                   Germany  FR10021         None    \n",
       "4 2023-12-01    Government                    Canada   HY1004         None    \n",
       "\n",
       "   Units_Sold  \n",
       "0          15  \n",
       "1           6  \n",
       "2          18  \n",
       "3          15  \n",
       "4          18  "
      ]
     },
     "execution_count": 30,
     "metadata": {},
     "output_type": "execute_result"
    }
   ],
   "source": [
    "sales_table.head()"
   ]
  },
  {
   "cell_type": "code",
   "execution_count": 31,
   "id": "d75bfe05-8b13-4818-af03-0c279e8fa9f9",
   "metadata": {},
   "outputs": [
    {
     "name": "stdout",
     "output_type": "stream",
     "text": [
      "<class 'pandas.core.frame.DataFrame'>\n",
      "RangeIndex: 3138 entries, 0 to 3137\n",
      "Data columns (total 6 columns):\n",
      " #   Column         Non-Null Count  Dtype         \n",
      "---  ------         --------------  -----         \n",
      " 0   SalesDate      1046 non-null   datetime64[ns]\n",
      " 1   Customer_type  3138 non-null   object        \n",
      " 2   Country        3138 non-null   object        \n",
      " 3   Product        3138 non-null   object        \n",
      " 4   Discount_Band  3138 non-null   object        \n",
      " 5   Units_Sold     3138 non-null   int64         \n",
      "dtypes: datetime64[ns](1), int64(1), object(4)\n",
      "memory usage: 147.2+ KB\n"
     ]
    }
   ],
   "source": [
    "sales_table.info()"
   ]
  },
  {
   "cell_type": "code",
   "execution_count": 32,
   "id": "260f7be8-6f1d-49be-b73a-2d0fb3cc4c2c",
   "metadata": {},
   "outputs": [
    {
     "data": {
      "text/html": [
       "<div>\n",
       "<style scoped>\n",
       "    .dataframe tbody tr th:only-of-type {\n",
       "        vertical-align: middle;\n",
       "    }\n",
       "\n",
       "    .dataframe tbody tr th {\n",
       "        vertical-align: top;\n",
       "    }\n",
       "\n",
       "    .dataframe thead th {\n",
       "        text-align: right;\n",
       "    }\n",
       "</style>\n",
       "<table border=\"1\" class=\"dataframe\">\n",
       "  <thead>\n",
       "    <tr style=\"text-align: right;\">\n",
       "      <th></th>\n",
       "      <th>ProductID</th>\n",
       "      <th>Product</th>\n",
       "      <th>Category</th>\n",
       "      <th>Cost_Price</th>\n",
       "      <th>Sale_Price</th>\n",
       "      <th>Brand</th>\n",
       "      <th>Description</th>\n",
       "      <th>Image_url</th>\n",
       "    </tr>\n",
       "  </thead>\n",
       "  <tbody>\n",
       "    <tr>\n",
       "      <th>0</th>\n",
       "      <td>SR1001</td>\n",
       "      <td>MV7</td>\n",
       "      <td>Dynamic Microphone</td>\n",
       "      <td>$174</td>\n",
       "      <td>$199</td>\n",
       "      <td>Shure</td>\n",
       "      <td>A versatile USB/XLR dynamic microphone ideal f...</td>\n",
       "      <td>https://absentdata.com/wp-content/uploads/2024...</td>\n",
       "    </tr>\n",
       "    <tr>\n",
       "      <th>1</th>\n",
       "      <td>RR10020</td>\n",
       "      <td>NT1-A</td>\n",
       "      <td>Condenser Microphone</td>\n",
       "      <td>$160</td>\n",
       "      <td>$229</td>\n",
       "      <td>Rode</td>\n",
       "      <td>A popular condenser microphone known for its l...</td>\n",
       "      <td>https://absentdata.com/wp-content/uploads/2024...</td>\n",
       "    </tr>\n",
       "    <tr>\n",
       "      <th>2</th>\n",
       "      <td>FR10021</td>\n",
       "      <td>Scarlett 2i2</td>\n",
       "      <td>Audio Interface</td>\n",
       "      <td>$118</td>\n",
       "      <td>$169</td>\n",
       "      <td>Focusrite</td>\n",
       "      <td>A compact USB audio interface with two inputs,...</td>\n",
       "      <td>https://absentdata.com/wp-content/uploads/2024...</td>\n",
       "    </tr>\n",
       "    <tr>\n",
       "      <th>3</th>\n",
       "      <td>PS10022</td>\n",
       "      <td>AudioBox USB 96 Studio</td>\n",
       "      <td>Recording Bundle</td>\n",
       "      <td>$90</td>\n",
       "      <td>$199</td>\n",
       "      <td>PreSonus</td>\n",
       "      <td>A complete recording bundle that includes an a...</td>\n",
       "      <td>https://absentdata.com/wp-content/uploads/2024...</td>\n",
       "    </tr>\n",
       "    <tr>\n",
       "      <th>4</th>\n",
       "      <td>HY1004</td>\n",
       "      <td>QuadCast S</td>\n",
       "      <td>Streaming Microphone</td>\n",
       "      <td>$97</td>\n",
       "      <td>$139</td>\n",
       "      <td>HyperX</td>\n",
       "      <td>A USB condenser microphone featuring customiza...</td>\n",
       "      <td>https://absentdata.com/wp-content/uploads/2024...</td>\n",
       "    </tr>\n",
       "  </tbody>\n",
       "</table>\n",
       "</div>"
      ],
      "text/plain": [
       "  ProductID                 Product              Category Cost_Price  \\\n",
       "0    SR1001                     MV7    Dynamic Microphone       $174   \n",
       "1   RR10020                   NT1-A  Condenser Microphone       $160   \n",
       "2   FR10021            Scarlett 2i2       Audio Interface       $118   \n",
       "3   PS10022  AudioBox USB 96 Studio      Recording Bundle        $90   \n",
       "4    HY1004              QuadCast S  Streaming Microphone        $97   \n",
       "\n",
       "  Sale_Price      Brand                                        Description  \\\n",
       "0       $199      Shure  A versatile USB/XLR dynamic microphone ideal f...   \n",
       "1       $229       Rode  A popular condenser microphone known for its l...   \n",
       "2       $169  Focusrite  A compact USB audio interface with two inputs,...   \n",
       "3       $199   PreSonus  A complete recording bundle that includes an a...   \n",
       "4       $139     HyperX  A USB condenser microphone featuring customiza...   \n",
       "\n",
       "                                           Image_url  \n",
       "0  https://absentdata.com/wp-content/uploads/2024...  \n",
       "1  https://absentdata.com/wp-content/uploads/2024...  \n",
       "2  https://absentdata.com/wp-content/uploads/2024...  \n",
       "3  https://absentdata.com/wp-content/uploads/2024...  \n",
       "4  https://absentdata.com/wp-content/uploads/2024...  "
      ]
     },
     "execution_count": 32,
     "metadata": {},
     "output_type": "execute_result"
    }
   ],
   "source": [
    "product_table.head()\n",
    "# discount_table.head()"
   ]
  },
  {
   "cell_type": "code",
   "execution_count": 37,
   "id": "e23d3421-d150-4779-a44b-87d99a9a6abd",
   "metadata": {},
   "outputs": [
    {
     "data": {
      "text/html": [
       "<div>\n",
       "<style scoped>\n",
       "    .dataframe tbody tr th:only-of-type {\n",
       "        vertical-align: middle;\n",
       "    }\n",
       "\n",
       "    .dataframe tbody tr th {\n",
       "        vertical-align: top;\n",
       "    }\n",
       "\n",
       "    .dataframe thead th {\n",
       "        text-align: right;\n",
       "    }\n",
       "</style>\n",
       "<table border=\"1\" class=\"dataframe\">\n",
       "  <thead>\n",
       "    <tr style=\"text-align: right;\">\n",
       "      <th></th>\n",
       "      <th>SalesDate</th>\n",
       "      <th>Customer_type</th>\n",
       "      <th>Country</th>\n",
       "      <th>Product</th>\n",
       "      <th>Discount_Band</th>\n",
       "      <th>Units_Sold</th>\n",
       "    </tr>\n",
       "  </thead>\n",
       "  <tbody>\n",
       "    <tr>\n",
       "      <th>0</th>\n",
       "      <td>2023-12-01</td>\n",
       "      <td>Government</td>\n",
       "      <td>Germany</td>\n",
       "      <td>SR1001</td>\n",
       "      <td>None</td>\n",
       "      <td>15</td>\n",
       "    </tr>\n",
       "    <tr>\n",
       "      <th>1</th>\n",
       "      <td>2023-12-01</td>\n",
       "      <td>Education</td>\n",
       "      <td>United States of America</td>\n",
       "      <td>RR10020</td>\n",
       "      <td>None</td>\n",
       "      <td>6</td>\n",
       "    </tr>\n",
       "    <tr>\n",
       "      <th>2</th>\n",
       "      <td>2023-12-01</td>\n",
       "      <td>Government</td>\n",
       "      <td>Canada</td>\n",
       "      <td>FR10021</td>\n",
       "      <td>None</td>\n",
       "      <td>18</td>\n",
       "    </tr>\n",
       "    <tr>\n",
       "      <th>3</th>\n",
       "      <td>2023-12-01</td>\n",
       "      <td>Government</td>\n",
       "      <td>Germany</td>\n",
       "      <td>FR10021</td>\n",
       "      <td>None</td>\n",
       "      <td>15</td>\n",
       "    </tr>\n",
       "    <tr>\n",
       "      <th>4</th>\n",
       "      <td>2023-12-01</td>\n",
       "      <td>Government</td>\n",
       "      <td>Canada</td>\n",
       "      <td>HY1004</td>\n",
       "      <td>None</td>\n",
       "      <td>18</td>\n",
       "    </tr>\n",
       "  </tbody>\n",
       "</table>\n",
       "</div>"
      ],
      "text/plain": [
       "   SalesDate Customer_type                   Country  Product Discount_Band  \\\n",
       "0 2023-12-01    Government                   Germany   SR1001         None    \n",
       "1 2023-12-01     Education  United States of America  RR10020         None    \n",
       "2 2023-12-01    Government                    Canada  FR10021         None    \n",
       "3 2023-12-01    Government                   Germany  FR10021         None    \n",
       "4 2023-12-01    Government                    Canada   HY1004         None    \n",
       "\n",
       "   Units_Sold  \n",
       "0          15  \n",
       "1           6  \n",
       "2          18  \n",
       "3          15  \n",
       "4          18  "
      ]
     },
     "execution_count": 37,
     "metadata": {},
     "output_type": "execute_result"
    }
   ],
   "source": [
    "sales_table.head()"
   ]
  },
  {
   "cell_type": "code",
   "execution_count": 33,
   "id": "f1c1809f-afed-4b12-a651-f3e624ad3b62",
   "metadata": {},
   "outputs": [
    {
     "data": {
      "text/html": [
       "<div>\n",
       "<style scoped>\n",
       "    .dataframe tbody tr th:only-of-type {\n",
       "        vertical-align: middle;\n",
       "    }\n",
       "\n",
       "    .dataframe tbody tr th {\n",
       "        vertical-align: top;\n",
       "    }\n",
       "\n",
       "    .dataframe thead th {\n",
       "        text-align: right;\n",
       "    }\n",
       "</style>\n",
       "<table border=\"1\" class=\"dataframe\">\n",
       "  <thead>\n",
       "    <tr style=\"text-align: right;\">\n",
       "      <th></th>\n",
       "      <th>Month</th>\n",
       "      <th>Discount_Band</th>\n",
       "      <th>Discount</th>\n",
       "    </tr>\n",
       "  </thead>\n",
       "  <tbody>\n",
       "    <tr>\n",
       "      <th>0</th>\n",
       "      <td>January</td>\n",
       "      <td>none</td>\n",
       "      <td>0</td>\n",
       "    </tr>\n",
       "    <tr>\n",
       "      <th>1</th>\n",
       "      <td>January</td>\n",
       "      <td>low</td>\n",
       "      <td>6</td>\n",
       "    </tr>\n",
       "    <tr>\n",
       "      <th>2</th>\n",
       "      <td>January</td>\n",
       "      <td>medium</td>\n",
       "      <td>10</td>\n",
       "    </tr>\n",
       "    <tr>\n",
       "      <th>3</th>\n",
       "      <td>January</td>\n",
       "      <td>high</td>\n",
       "      <td>5</td>\n",
       "    </tr>\n",
       "    <tr>\n",
       "      <th>4</th>\n",
       "      <td>February</td>\n",
       "      <td>none</td>\n",
       "      <td>0</td>\n",
       "    </tr>\n",
       "  </tbody>\n",
       "</table>\n",
       "</div>"
      ],
      "text/plain": [
       "      Month Discount_Band  Discount\n",
       "0   January          none         0\n",
       "1   January           low         6\n",
       "2   January        medium        10\n",
       "3   January          high         5\n",
       "4  February          none         0"
      ]
     },
     "execution_count": 33,
     "metadata": {},
     "output_type": "execute_result"
    }
   ],
   "source": [
    "discount_table.head()"
   ]
  },
  {
   "cell_type": "code",
   "execution_count": 34,
   "id": "d9feffdb-99b5-40c2-944c-5a6e91add9f7",
   "metadata": {},
   "outputs": [
    {
     "name": "stdout",
     "output_type": "stream",
     "text": [
      "<class 'pandas.core.frame.DataFrame'>\n",
      "RangeIndex: 1056 entries, 0 to 1055\n",
      "Data columns (total 3 columns):\n",
      " #   Column         Non-Null Count  Dtype \n",
      "---  ------         --------------  ----- \n",
      " 0   Month          1056 non-null   object\n",
      " 1   Discount_Band  1056 non-null   object\n",
      " 2   Discount       1056 non-null   int64 \n",
      "dtypes: int64(1), object(2)\n",
      "memory usage: 24.9+ KB\n"
     ]
    }
   ],
   "source": [
    "discount_table.info()"
   ]
  }
 ],
 "metadata": {
  "kernelspec": {
   "display_name": "Python 3 (ipykernel)",
   "language": "python",
   "name": "python3"
  },
  "language_info": {
   "codemirror_mode": {
    "name": "ipython",
    "version": 3
   },
   "file_extension": ".py",
   "mimetype": "text/x-python",
   "name": "python",
   "nbconvert_exporter": "python",
   "pygments_lexer": "ipython3",
   "version": "3.8.10"
  }
 },
 "nbformat": 4,
 "nbformat_minor": 5
}
