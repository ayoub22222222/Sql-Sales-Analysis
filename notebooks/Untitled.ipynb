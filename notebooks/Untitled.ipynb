{
 "cells": [
  {
   "cell_type": "code",
   "execution_count": 1,
   "id": "539cc153-b532-438d-b035-3993ce3da611",
   "metadata": {},
   "outputs": [],
   "source": [
    "import mysql.connector as sql\n"
   ]
  },
  {
   "cell_type": "code",
   "execution_count": 2,
   "id": "793f9437-d40b-4369-8547-9530d8b4255a",
   "metadata": {},
   "outputs": [],
   "source": [
    "connection = sql.connect(\n",
    "    host=\"localhost\",\n",
    "    user=\"root\",\n",
    "    password=\"Ayoub1111\",\n",
    "    allow_local_infile=True\n",
    ")"
   ]
  },
  {
   "cell_type": "code",
   "execution_count": 4,
   "id": "3a891905-962e-475d-b424-c3b00e097fef",
   "metadata": {},
   "outputs": [],
   "source": [
    "cursor = connection.cursor()"
   ]
  },
  {
   "cell_type": "code",
   "execution_count": 5,
   "id": "45b71db8-3601-4f35-b1eb-49484c765c54",
   "metadata": {},
   "outputs": [],
   "source": [
    "cursor.execute(\"CREATE DATABASE IF NOT EXISTS product_sales\")"
   ]
  },
  {
   "cell_type": "code",
   "execution_count": 6,
   "id": "1b4ae647-87b3-4e6b-9cc1-7633a1dc057d",
   "metadata": {},
   "outputs": [],
   "source": [
    "cursor.execute('use product_sales')"
   ]
  },
  {
   "cell_type": "code",
   "execution_count": 7,
   "id": "56f4f429-3bbe-42eb-a68d-1c90fbd3225b",
   "metadata": {},
   "outputs": [],
   "source": [
    "create_table_query = \"\"\"\n",
    "    CREATE TABLE IF NOT EXISTS discount (\n",
    "        Month VARCHAR(255) NOT NULL,\n",
    "        Discount_Band VARCHAR(255) NOT NULL,\n",
    "        Discount INT NOT NULL\n",
    ");\n",
    "\"\"\"\n",
    "\n",
    "cursor.execute(create_table_query)"
   ]
  },
  {
   "cell_type": "code",
   "execution_count": 8,
   "id": "b6258c0c-8fe5-4ead-b927-4d0526c8a6da",
   "metadata": {},
   "outputs": [],
   "source": [
    "connection.commit()"
   ]
  },
  {
   "cell_type": "code",
   "execution_count": 9,
   "id": "2d85dda8-3add-492a-a89d-f264dc889cf3",
   "metadata": {},
   "outputs": [],
   "source": [
    "file_path = '/home/hp/Sql-Sales-Analysis/data/discount_data.csv'\n",
    "cursor.execute(\n",
    "    f\"\"\"\n",
    "    LOAD DATA LOCAL INFILE '{file_path}'\n",
    "    INTO TABLE discount\n",
    "    FIELDS TERMINATED BY ','\n",
    "    ENCLOSED BY '\"'\n",
    "    LINES TERMINATED BY '\\n'\n",
    "    IGNORE 1 LINES\n",
    "    (Month, Discount_Band, Discount)\n",
    "    \"\"\")\n"
   ]
  },
  {
   "cell_type": "code",
   "execution_count": 10,
   "id": "72c6bd74-4cd1-4053-a4a4-f4bf7928adaa",
   "metadata": {},
   "outputs": [],
   "source": [
    "connection.commit()"
   ]
  },
  {
   "cell_type": "code",
   "execution_count": 11,
   "id": "1f0d519e-224b-44d6-973e-15e329ab6e1f",
   "metadata": {},
   "outputs": [],
   "source": [
    "cursor.execute(\"SHOW TABLES LIKE 'discount'\")"
   ]
  },
  {
   "cell_type": "code",
   "execution_count": 12,
   "id": "7e150390-625b-466d-89c0-b32e31e43754",
   "metadata": {},
   "outputs": [],
   "source": [
    "result = cursor.fetchone()"
   ]
  },
  {
   "cell_type": "code",
   "execution_count": 13,
   "id": "3b4ea650-ba6f-4dbe-b01b-8228445e5b9e",
   "metadata": {},
   "outputs": [
    {
     "name": "stdout",
     "output_type": "stream",
     "text": [
      "table exists\n"
     ]
    }
   ],
   "source": [
    "if result:\n",
    "    print(\"table exists\")\n",
    "else:\n",
    "    print(\"table not exists\")"
   ]
  },
  {
   "cell_type": "code",
   "execution_count": 14,
   "id": "41e3fecd-ab7d-402e-978d-5ae4fc9544f0",
   "metadata": {},
   "outputs": [],
   "source": [
    "table_name = 'discount'"
   ]
  },
  {
   "cell_type": "code",
   "execution_count": 15,
   "id": "c6ad0d64-0f53-489f-84cf-529737cc4ccd",
   "metadata": {},
   "outputs": [],
   "source": [
    "query = f\"SELECT * FROM {table_name}\""
   ]
  },
  {
   "cell_type": "code",
   "execution_count": 16,
   "id": "2a6ea031-813a-4134-890a-fd6c57c4989e",
   "metadata": {},
   "outputs": [],
   "source": [
    "cursor.execute(query)\n",
    " "
   ]
  },
  {
   "cell_type": "code",
   "execution_count": 17,
   "id": "ff20d72f-a04f-4e6d-8b7b-946234c49d3f",
   "metadata": {},
   "outputs": [],
   "source": [
    "result = cursor.fetchall()"
   ]
  },
  {
   "cell_type": "code",
   "execution_count": 18,
   "id": "a71773c4-6a38-4895-bdb7-aa73adb21345",
   "metadata": {},
   "outputs": [],
   "source": [
    "product_query = \"\"\"\n",
    "    CREATE TABLE IF NOT EXISTS Products (\n",
    "        ProductID VARCHAR(255) NOT NULL,\n",
    "        Product VARCHAR(255) NOT NULL,\n",
    "        Category VARCHAR(255) NOT NULL,\n",
    "        Cost_Price VARCHAR(255) NOT NULL,\n",
    "        Sale_Price INT NOT NULL,\n",
    "        Brand VARCHAR(255) NOT NULL,\n",
    "        Description VARCHAR(255) NOT NULL\n",
    ");\n",
    "\"\"\""
   ]
  },
  {
   "cell_type": "code",
   "execution_count": 19,
   "id": "8bc8cd43-e01e-4129-9865-10dbe911e047",
   "metadata": {},
   "outputs": [],
   "source": [
    "cursor.execute(product_query)"
   ]
  },
  {
   "cell_type": "code",
   "execution_count": 20,
   "id": "654317ab-c385-41ac-a93d-6d4928252382",
   "metadata": {},
   "outputs": [],
   "source": [
    "connection.commit()"
   ]
  },
  {
   "cell_type": "code",
   "execution_count": 29,
   "id": "f329a07d-9854-459c-a70c-57253be1b2a0",
   "metadata": {},
   "outputs": [],
   "source": [
    "file_path = '../home/hp/Sql-Sales-Analysis/data/Product_data.csv'\n",
    "cursor.execute(\n",
    "    f\"\"\"\n",
    "    LOAD DATA LOCAL INFILE '{file_path}'\n",
    "    INTO TABLE Products\n",
    "    FIELDS TERMINATED BY ','\n",
    "    ENCLOSED BY '\"'\n",
    "    LINES TERMINATED BY '\\n'\n",
    "    IGNORE 1 LINES \n",
    "    (ProductID, Product, Category, Cost_Price, Sale_Price, Brand, Description)\n",
    "    \"\"\")\n"
   ]
  },
  {
   "cell_type": "code",
   "execution_count": 30,
   "id": "03cb44c7-4673-46b3-a2cd-ccac4c33a22e",
   "metadata": {},
   "outputs": [
    {
     "ename": "InterfaceError",
     "evalue": "File '/home/hp/Sql-Sales-Analysis/home/hp/Sql-Sales-Analysis/data/Product_data.csv' could not be read",
     "output_type": "error",
     "traceback": [
      "\u001b[0;31m---------------------------------------------------------------------------\u001b[0m",
      "\u001b[0;31mInterfaceError\u001b[0m                            Traceback (most recent call last)",
      "Cell \u001b[0;32mIn[30], line 1\u001b[0m\n\u001b[0;32m----> 1\u001b[0m \u001b[43mconnection\u001b[49m\u001b[38;5;241;43m.\u001b[39;49m\u001b[43mcommit\u001b[49m\u001b[43m(\u001b[49m\u001b[43m)\u001b[49m\n",
      "File \u001b[0;32m~/.local/lib/python3.8/site-packages/mysql/connector/connection.py:1293\u001b[0m, in \u001b[0;36mMySQLConnection.commit\u001b[0;34m(self)\u001b[0m\n\u001b[1;32m   1291\u001b[0m \u001b[38;5;28;01mdef\u001b[39;00m \u001b[38;5;21mcommit\u001b[39m(\u001b[38;5;28mself\u001b[39m) \u001b[38;5;241m-\u001b[39m\u001b[38;5;241m>\u001b[39m \u001b[38;5;28;01mNone\u001b[39;00m:\n\u001b[1;32m   1292\u001b[0m \u001b[38;5;250m    \u001b[39m\u001b[38;5;124;03m\"\"\"Commit current transaction\"\"\"\u001b[39;00m\n\u001b[0;32m-> 1293\u001b[0m     \u001b[38;5;28;43mself\u001b[39;49m\u001b[38;5;241;43m.\u001b[39;49m\u001b[43m_execute_query\u001b[49m\u001b[43m(\u001b[49m\u001b[38;5;124;43m\"\u001b[39;49m\u001b[38;5;124;43mCOMMIT\u001b[39;49m\u001b[38;5;124;43m\"\u001b[39;49m\u001b[43m)\u001b[49m\n",
      "File \u001b[0;32m~/.local/lib/python3.8/site-packages/mysql/connector/connection.py:1312\u001b[0m, in \u001b[0;36mMySQLConnection._execute_query\u001b[0;34m(self, query)\u001b[0m\n\u001b[1;32m   1303\u001b[0m \u001b[38;5;250m\u001b[39m\u001b[38;5;124;03m\"\"\"Execute a query\u001b[39;00m\n\u001b[1;32m   1304\u001b[0m \n\u001b[1;32m   1305\u001b[0m \u001b[38;5;124;03mThis method simply calls cmd_query() after checking for unread\u001b[39;00m\n\u001b[0;32m   (...)\u001b[0m\n\u001b[1;32m   1309\u001b[0m \u001b[38;5;124;03mReturns a dict()\u001b[39;00m\n\u001b[1;32m   1310\u001b[0m \u001b[38;5;124;03m\"\"\"\u001b[39;00m\n\u001b[1;32m   1311\u001b[0m \u001b[38;5;28mself\u001b[39m\u001b[38;5;241m.\u001b[39mhandle_unread_result()\n\u001b[0;32m-> 1312\u001b[0m \u001b[38;5;28;43mself\u001b[39;49m\u001b[38;5;241;43m.\u001b[39;49m\u001b[43mcmd_query\u001b[49m\u001b[43m(\u001b[49m\u001b[43mquery\u001b[49m\u001b[43m)\u001b[49m\n",
      "File \u001b[0;32m~/.local/lib/python3.8/site-packages/mysql/connector/opentelemetry/context_propagation.py:97\u001b[0m, in \u001b[0;36mwith_context_propagation.<locals>.wrapper\u001b[0;34m(cnx, *args, **kwargs)\u001b[0m\n\u001b[1;32m     95\u001b[0m \u001b[38;5;66;03m# pylint: disable=possibly-used-before-assignment\u001b[39;00m\n\u001b[1;32m     96\u001b[0m \u001b[38;5;28;01mif\u001b[39;00m \u001b[38;5;129;01mnot\u001b[39;00m OTEL_ENABLED \u001b[38;5;129;01mor\u001b[39;00m \u001b[38;5;129;01mnot\u001b[39;00m cnx\u001b[38;5;241m.\u001b[39motel_context_propagation:\n\u001b[0;32m---> 97\u001b[0m     \u001b[38;5;28;01mreturn\u001b[39;00m \u001b[43mmethod\u001b[49m\u001b[43m(\u001b[49m\u001b[43mcnx\u001b[49m\u001b[43m,\u001b[49m\u001b[43m \u001b[49m\u001b[38;5;241;43m*\u001b[39;49m\u001b[43margs\u001b[49m\u001b[43m,\u001b[49m\u001b[43m \u001b[49m\u001b[38;5;241;43m*\u001b[39;49m\u001b[38;5;241;43m*\u001b[39;49m\u001b[43mkwargs\u001b[49m\u001b[43m)\u001b[49m\n\u001b[1;32m     99\u001b[0m current_span \u001b[38;5;241m=\u001b[39m trace\u001b[38;5;241m.\u001b[39mget_current_span()\n\u001b[1;32m    100\u001b[0m tp_header \u001b[38;5;241m=\u001b[39m \u001b[38;5;28;01mNone\u001b[39;00m\n",
      "File \u001b[0;32m~/.local/lib/python3.8/site-packages/mysql/connector/connection.py:859\u001b[0m, in \u001b[0;36mMySQLConnection.cmd_query\u001b[0;34m(self, query, raw, buffered, raw_as_string)\u001b[0m\n\u001b[1;32m    857\u001b[0m query \u001b[38;5;241m=\u001b[39m \u001b[38;5;28mbytes\u001b[39m(packet)\n\u001b[1;32m    858\u001b[0m \u001b[38;5;28;01mtry\u001b[39;00m:\n\u001b[0;32m--> 859\u001b[0m     result \u001b[38;5;241m=\u001b[39m \u001b[38;5;28;43mself\u001b[39;49m\u001b[38;5;241;43m.\u001b[39;49m\u001b[43m_handle_result\u001b[49m\u001b[43m(\u001b[49m\u001b[38;5;28;43mself\u001b[39;49m\u001b[38;5;241;43m.\u001b[39;49m\u001b[43m_send_cmd\u001b[49m\u001b[43m(\u001b[49m\u001b[43mServerCmd\u001b[49m\u001b[38;5;241;43m.\u001b[39;49m\u001b[43mQUERY\u001b[49m\u001b[43m,\u001b[49m\u001b[43m \u001b[49m\u001b[43mquery\u001b[49m\u001b[43m)\u001b[49m\u001b[43m)\u001b[49m\n\u001b[1;32m    860\u001b[0m \u001b[38;5;28;01mexcept\u001b[39;00m ProgrammingError \u001b[38;5;28;01mas\u001b[39;00m err:\n\u001b[1;32m    861\u001b[0m     \u001b[38;5;28;01mif\u001b[39;00m err\u001b[38;5;241m.\u001b[39merrno \u001b[38;5;241m==\u001b[39m \u001b[38;5;241m3948\u001b[39m \u001b[38;5;129;01mand\u001b[39;00m \u001b[38;5;124m\"\u001b[39m\u001b[38;5;124mLoading local data is disabled\u001b[39m\u001b[38;5;124m\"\u001b[39m \u001b[38;5;129;01min\u001b[39;00m err\u001b[38;5;241m.\u001b[39mmsg:\n",
      "File \u001b[0;32m~/.local/lib/python3.8/site-packages/mysql/connector/connection.py:631\u001b[0m, in \u001b[0;36mMySQLConnection._handle_result\u001b[0;34m(self, packet)\u001b[0m\n\u001b[1;32m    629\u001b[0m \u001b[38;5;28;01mif\u001b[39;00m packet[\u001b[38;5;241m4\u001b[39m] \u001b[38;5;241m==\u001b[39m \u001b[38;5;241m251\u001b[39m:\n\u001b[1;32m    630\u001b[0m     filename \u001b[38;5;241m=\u001b[39m packet[\u001b[38;5;241m5\u001b[39m:]\u001b[38;5;241m.\u001b[39mdecode()\n\u001b[0;32m--> 631\u001b[0m     \u001b[38;5;28;01mreturn\u001b[39;00m \u001b[38;5;28;43mself\u001b[39;49m\u001b[38;5;241;43m.\u001b[39;49m\u001b[43m_handle_load_data_infile\u001b[49m\u001b[43m(\u001b[49m\u001b[43mfilename\u001b[49m\u001b[43m)\u001b[49m\n\u001b[1;32m    632\u001b[0m \u001b[38;5;28;01mif\u001b[39;00m packet[\u001b[38;5;241m4\u001b[39m] \u001b[38;5;241m==\u001b[39m \u001b[38;5;241m254\u001b[39m:\n\u001b[1;32m    633\u001b[0m     \u001b[38;5;28;01mreturn\u001b[39;00m \u001b[38;5;28mself\u001b[39m\u001b[38;5;241m.\u001b[39m_handle_eof(packet)\n",
      "File \u001b[0;32m~/.local/lib/python3.8/site-packages/mysql/connector/connection.py:604\u001b[0m, in \u001b[0;36mMySQLConnection._handle_load_data_infile\u001b[0;34m(self, filename)\u001b[0m\n\u001b[1;32m    602\u001b[0m     \u001b[38;5;28;01mexcept\u001b[39;00m \u001b[38;5;167;01mAttributeError\u001b[39;00m \u001b[38;5;28;01mas\u001b[39;00m err:\n\u001b[1;32m    603\u001b[0m         \u001b[38;5;28;01mraise\u001b[39;00m OperationalError(\u001b[38;5;124m\"\u001b[39m\u001b[38;5;124mMySQL Connection not available\u001b[39m\u001b[38;5;124m\"\u001b[39m) \u001b[38;5;28;01mfrom\u001b[39;00m \u001b[38;5;21;01merr\u001b[39;00m\n\u001b[0;32m--> 604\u001b[0m     \u001b[38;5;28;01mraise\u001b[39;00m InterfaceError(\u001b[38;5;124mf\u001b[39m\u001b[38;5;124m\"\u001b[39m\u001b[38;5;124mFile \u001b[39m\u001b[38;5;124m'\u001b[39m\u001b[38;5;132;01m{\u001b[39;00mfile_name\u001b[38;5;132;01m}\u001b[39;00m\u001b[38;5;124m'\u001b[39m\u001b[38;5;124m could not be read\u001b[39m\u001b[38;5;124m\"\u001b[39m) \u001b[38;5;28;01mfrom\u001b[39;00m \u001b[38;5;28;01mNone\u001b[39;00m\n\u001b[1;32m    605\u001b[0m \u001b[38;5;28;01mfinally\u001b[39;00m:\n\u001b[1;32m    606\u001b[0m     \u001b[38;5;28;01mtry\u001b[39;00m:\n",
      "\u001b[0;31mInterfaceError\u001b[0m: File '/home/hp/Sql-Sales-Analysis/home/hp/Sql-Sales-Analysis/data/Product_data.csv' could not be read"
     ]
    }
   ],
   "source": [
    "connection.commit()"
   ]
  }
 ],
 "metadata": {
  "kernelspec": {
   "display_name": "Python 3 (ipykernel)",
   "language": "python",
   "name": "python3"
  },
  "language_info": {
   "codemirror_mode": {
    "name": "ipython",
    "version": 3
   },
   "file_extension": ".py",
   "mimetype": "text/x-python",
   "name": "python",
   "nbconvert_exporter": "python",
   "pygments_lexer": "ipython3",
   "version": "3.8.10"
  }
 },
 "nbformat": 4,
 "nbformat_minor": 5
}
