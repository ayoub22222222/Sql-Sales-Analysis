{
 "cells": [
  {
   "cell_type": "code",
   "execution_count": 33,
   "id": "539cc153-b532-438d-b035-3993ce3da611",
   "metadata": {},
   "outputs": [],
   "source": [
    "import mysql.connector as sql\n"
   ]
  },
  {
   "cell_type": "code",
   "execution_count": 34,
   "id": "793f9437-d40b-4369-8547-9530d8b4255a",
   "metadata": {},
   "outputs": [],
   "source": [
    "connection = sql.connect(\n",
    "    host=\"localhost\",\n",
    "    user=\"root\",\n",
    "    password=\"Ayoub1111\",\n",
    "    allow_local_infile=True\n",
    ")"
   ]
  },
  {
   "cell_type": "code",
   "execution_count": 35,
   "id": "3a891905-962e-475d-b424-c3b00e097fef",
   "metadata": {},
   "outputs": [],
   "source": [
    "cursor = connection.cursor()"
   ]
  },
  {
   "cell_type": "code",
   "execution_count": 36,
   "id": "45b71db8-3601-4f35-b1eb-49484c765c54",
   "metadata": {},
   "outputs": [],
   "source": [
    "cursor.execute(\"CREATE DATABASE IF NOT EXISTS product_sales\")"
   ]
  },
  {
   "cell_type": "code",
   "execution_count": 37,
   "id": "1b4ae647-87b3-4e6b-9cc1-7633a1dc057d",
   "metadata": {},
   "outputs": [],
   "source": [
    "cursor.execute('use product_sales')"
   ]
  },
  {
   "cell_type": "code",
   "execution_count": 38,
   "id": "56f4f429-3bbe-42eb-a68d-1c90fbd3225b",
   "metadata": {},
   "outputs": [],
   "source": [
    "create_table_query = \"\"\"\n",
    "    CREATE TABLE IF NOT EXISTS discount (\n",
    "        Month VARCHAR(255) NOT NULL,\n",
    "        Discount_Band VARCHAR(255) NOT NULL,\n",
    "        Discount INT NOT NULL\n",
    ");\n",
    "\"\"\"\n",
    "\n",
    "cursor.execute(create_table_query)"
   ]
  },
  {
   "cell_type": "code",
   "execution_count": 39,
   "id": "b6258c0c-8fe5-4ead-b927-4d0526c8a6da",
   "metadata": {},
   "outputs": [],
   "source": [
    "connection.commit()"
   ]
  },
  {
   "cell_type": "code",
   "execution_count": 40,
   "id": "2d85dda8-3add-492a-a89d-f264dc889cf3",
   "metadata": {},
   "outputs": [
    {
     "ename": "DatabaseError",
     "evalue": "LOAD DATA LOCAL INFILE file request rejected due to restrictions on access.",
     "output_type": "error",
     "traceback": [
      "\u001b[0;31m---------------------------------------------------------------------------\u001b[0m",
      "\u001b[0;31mProgrammingError\u001b[0m                          Traceback (most recent call last)",
      "File \u001b[0;32m~/.local/lib/python3.8/site-packages/mysql/connector/connection.py:859\u001b[0m, in \u001b[0;36mMySQLConnection.cmd_query\u001b[0;34m(self, query, raw, buffered, raw_as_string)\u001b[0m\n\u001b[1;32m    858\u001b[0m \u001b[38;5;28;01mtry\u001b[39;00m:\n\u001b[0;32m--> 859\u001b[0m     result \u001b[38;5;241m=\u001b[39m \u001b[38;5;28;43mself\u001b[39;49m\u001b[38;5;241;43m.\u001b[39;49m\u001b[43m_handle_result\u001b[49m\u001b[43m(\u001b[49m\u001b[38;5;28;43mself\u001b[39;49m\u001b[38;5;241;43m.\u001b[39;49m\u001b[43m_send_cmd\u001b[49m\u001b[43m(\u001b[49m\u001b[43mServerCmd\u001b[49m\u001b[38;5;241;43m.\u001b[39;49m\u001b[43mQUERY\u001b[49m\u001b[43m,\u001b[49m\u001b[43m \u001b[49m\u001b[43mquery\u001b[49m\u001b[43m)\u001b[49m\u001b[43m)\u001b[49m\n\u001b[1;32m    860\u001b[0m \u001b[38;5;28;01mexcept\u001b[39;00m ProgrammingError \u001b[38;5;28;01mas\u001b[39;00m err:\n",
      "File \u001b[0;32m~/.local/lib/python3.8/site-packages/mysql/connector/connection.py:635\u001b[0m, in \u001b[0;36mMySQLConnection._handle_result\u001b[0;34m(self, packet)\u001b[0m\n\u001b[1;32m    634\u001b[0m \u001b[38;5;28;01mif\u001b[39;00m packet[\u001b[38;5;241m4\u001b[39m] \u001b[38;5;241m==\u001b[39m \u001b[38;5;241m255\u001b[39m:\n\u001b[0;32m--> 635\u001b[0m     \u001b[38;5;28;01mraise\u001b[39;00m get_exception(packet)\n\u001b[1;32m    637\u001b[0m \u001b[38;5;66;03m# We have a text result set\u001b[39;00m\n",
      "\u001b[0;31mProgrammingError\u001b[0m: 3948 (42000): Loading local data is disabled; this must be enabled on both the client and server sides",
      "\nThe above exception was the direct cause of the following exception:\n",
      "\u001b[0;31mDatabaseError\u001b[0m                             Traceback (most recent call last)",
      "Cell \u001b[0;32mIn[40], line 2\u001b[0m\n\u001b[1;32m      1\u001b[0m file_path \u001b[38;5;241m=\u001b[39m \u001b[38;5;124m'\u001b[39m\u001b[38;5;124m/home/hp/Sql-Sales-Analysis/data/discount_data.csv\u001b[39m\u001b[38;5;124m'\u001b[39m\n\u001b[0;32m----> 2\u001b[0m \u001b[43mcursor\u001b[49m\u001b[38;5;241;43m.\u001b[39;49m\u001b[43mexecute\u001b[49m\u001b[43m(\u001b[49m\n\u001b[1;32m      3\u001b[0m \u001b[43m    \u001b[49m\u001b[38;5;124;43mf\u001b[39;49m\u001b[38;5;124;43m\"\"\"\u001b[39;49m\n\u001b[1;32m      4\u001b[0m \u001b[38;5;124;43m    LOAD DATA LOCAL INFILE \u001b[39;49m\u001b[38;5;124;43m'\u001b[39;49m\u001b[38;5;132;43;01m{\u001b[39;49;00m\u001b[43mfile_path\u001b[49m\u001b[38;5;132;43;01m}\u001b[39;49;00m\u001b[38;5;124;43m'\u001b[39;49m\n\u001b[1;32m      5\u001b[0m \u001b[38;5;124;43m    INTO TABLE discount\u001b[39;49m\n\u001b[1;32m      6\u001b[0m \u001b[38;5;124;43m    FIELDS TERMINATED BY \u001b[39;49m\u001b[38;5;124;43m'\u001b[39;49m\u001b[38;5;124;43m,\u001b[39;49m\u001b[38;5;124;43m'\u001b[39;49m\n\u001b[1;32m      7\u001b[0m \u001b[38;5;124;43m    ENCLOSED BY \u001b[39;49m\u001b[38;5;124;43m'\u001b[39;49m\u001b[38;5;124;43m\"\u001b[39;49m\u001b[38;5;124;43m'\u001b[39;49m\n\u001b[1;32m      8\u001b[0m \u001b[38;5;124;43m    LINES TERMINATED BY \u001b[39;49m\u001b[38;5;124;43m'\u001b[39;49m\u001b[38;5;130;43;01m\\n\u001b[39;49;00m\u001b[38;5;124;43m'\u001b[39;49m\n\u001b[1;32m      9\u001b[0m \u001b[38;5;124;43m    IGNORE 1 LINES\u001b[39;49m\n\u001b[1;32m     10\u001b[0m \u001b[38;5;124;43m    (Month, Discount_Band, Discount)\u001b[39;49m\n\u001b[1;32m     11\u001b[0m \u001b[38;5;124;43m    \u001b[39;49m\u001b[38;5;124;43m\"\"\"\u001b[39;49m\u001b[43m)\u001b[49m\n",
      "File \u001b[0;32m~/.local/lib/python3.8/site-packages/mysql/connector/cursor.py:537\u001b[0m, in \u001b[0;36mMySQLCursor.execute\u001b[0;34m(self, operation, params, multi)\u001b[0m\n\u001b[1;32m    534\u001b[0m     \u001b[38;5;28;01mreturn\u001b[39;00m \u001b[38;5;28mself\u001b[39m\u001b[38;5;241m.\u001b[39m_execute_iter(\u001b[38;5;28mself\u001b[39m\u001b[38;5;241m.\u001b[39m_connection\u001b[38;5;241m.\u001b[39mcmd_query_iter(stmt))\n\u001b[1;32m    536\u001b[0m \u001b[38;5;28;01mtry\u001b[39;00m:\n\u001b[0;32m--> 537\u001b[0m     \u001b[38;5;28mself\u001b[39m\u001b[38;5;241m.\u001b[39m_handle_result(\u001b[38;5;28;43mself\u001b[39;49m\u001b[38;5;241;43m.\u001b[39;49m\u001b[43m_connection\u001b[49m\u001b[38;5;241;43m.\u001b[39;49m\u001b[43mcmd_query\u001b[49m\u001b[43m(\u001b[49m\u001b[43mstmt\u001b[49m\u001b[43m)\u001b[49m)\n\u001b[1;32m    538\u001b[0m \u001b[38;5;28;01mexcept\u001b[39;00m InterfaceError \u001b[38;5;28;01mas\u001b[39;00m err:\n\u001b[1;32m    539\u001b[0m     \u001b[38;5;28;01mif\u001b[39;00m \u001b[38;5;28mself\u001b[39m\u001b[38;5;241m.\u001b[39m_connection\u001b[38;5;241m.\u001b[39mhave_next_result:\n",
      "File \u001b[0;32m~/.local/lib/python3.8/site-packages/mysql/connector/opentelemetry/context_propagation.py:97\u001b[0m, in \u001b[0;36mwith_context_propagation.<locals>.wrapper\u001b[0;34m(cnx, *args, **kwargs)\u001b[0m\n\u001b[1;32m     95\u001b[0m \u001b[38;5;66;03m# pylint: disable=possibly-used-before-assignment\u001b[39;00m\n\u001b[1;32m     96\u001b[0m \u001b[38;5;28;01mif\u001b[39;00m \u001b[38;5;129;01mnot\u001b[39;00m OTEL_ENABLED \u001b[38;5;129;01mor\u001b[39;00m \u001b[38;5;129;01mnot\u001b[39;00m cnx\u001b[38;5;241m.\u001b[39motel_context_propagation:\n\u001b[0;32m---> 97\u001b[0m     \u001b[38;5;28;01mreturn\u001b[39;00m \u001b[43mmethod\u001b[49m\u001b[43m(\u001b[49m\u001b[43mcnx\u001b[49m\u001b[43m,\u001b[49m\u001b[43m \u001b[49m\u001b[38;5;241;43m*\u001b[39;49m\u001b[43margs\u001b[49m\u001b[43m,\u001b[49m\u001b[43m \u001b[49m\u001b[38;5;241;43m*\u001b[39;49m\u001b[38;5;241;43m*\u001b[39;49m\u001b[43mkwargs\u001b[49m\u001b[43m)\u001b[49m\n\u001b[1;32m     99\u001b[0m current_span \u001b[38;5;241m=\u001b[39m trace\u001b[38;5;241m.\u001b[39mget_current_span()\n\u001b[1;32m    100\u001b[0m tp_header \u001b[38;5;241m=\u001b[39m \u001b[38;5;28;01mNone\u001b[39;00m\n",
      "File \u001b[0;32m~/.local/lib/python3.8/site-packages/mysql/connector/connection.py:866\u001b[0m, in \u001b[0;36mMySQLConnection.cmd_query\u001b[0;34m(self, query, raw, buffered, raw_as_string)\u001b[0m\n\u001b[1;32m    861\u001b[0m     \u001b[38;5;28;01mif\u001b[39;00m err\u001b[38;5;241m.\u001b[39merrno \u001b[38;5;241m==\u001b[39m \u001b[38;5;241m3948\u001b[39m \u001b[38;5;129;01mand\u001b[39;00m \u001b[38;5;124m\"\u001b[39m\u001b[38;5;124mLoading local data is disabled\u001b[39m\u001b[38;5;124m\"\u001b[39m \u001b[38;5;129;01min\u001b[39;00m err\u001b[38;5;241m.\u001b[39mmsg:\n\u001b[1;32m    862\u001b[0m         err_msg \u001b[38;5;241m=\u001b[39m (\n\u001b[1;32m    863\u001b[0m             \u001b[38;5;124m\"\u001b[39m\u001b[38;5;124mLOAD DATA LOCAL INFILE file request rejected due \u001b[39m\u001b[38;5;124m\"\u001b[39m\n\u001b[1;32m    864\u001b[0m             \u001b[38;5;124m\"\u001b[39m\u001b[38;5;124mto restrictions on access.\u001b[39m\u001b[38;5;124m\"\u001b[39m\n\u001b[1;32m    865\u001b[0m         )\n\u001b[0;32m--> 866\u001b[0m         \u001b[38;5;28;01mraise\u001b[39;00m DatabaseError(err_msg) \u001b[38;5;28;01mfrom\u001b[39;00m \u001b[38;5;21;01merr\u001b[39;00m\n\u001b[1;32m    867\u001b[0m     \u001b[38;5;28;01mraise\u001b[39;00m\n\u001b[1;32m    868\u001b[0m \u001b[38;5;28;01mif\u001b[39;00m \u001b[38;5;28mself\u001b[39m\u001b[38;5;241m.\u001b[39m_have_next_result:\n",
      "\u001b[0;31mDatabaseError\u001b[0m: LOAD DATA LOCAL INFILE file request rejected due to restrictions on access."
     ]
    }
   ],
   "source": [
    "file_path = '/home/hp/Sql-Sales-Analysis/data/discount_data.csv'\n",
    "cursor.execute(\n",
    "    f\"\"\"\n",
    "    LOAD DATA LOCAL INFILE '{file_path}'\n",
    "    INTO TABLE discount\n",
    "    FIELDS TERMINATED BY ','\n",
    "    ENCLOSED BY '\"'\n",
    "    LINES TERMINATED BY '\\n'\n",
    "    IGNORE 1 LINES\n",
    "    (Month, Discount_Band, Discount)\n",
    "    \"\"\")\n"
   ]
  },
  {
   "cell_type": "code",
   "execution_count": 10,
   "id": "72c6bd74-4cd1-4053-a4a4-f4bf7928adaa",
   "metadata": {},
   "outputs": [],
   "source": [
    "connection.commit()"
   ]
  },
  {
   "cell_type": "code",
   "execution_count": 11,
   "id": "1f0d519e-224b-44d6-973e-15e329ab6e1f",
   "metadata": {},
   "outputs": [],
   "source": [
    "cursor.execute(\"SHOW TABLES LIKE 'discount'\")"
   ]
  },
  {
   "cell_type": "code",
   "execution_count": 12,
   "id": "7e150390-625b-466d-89c0-b32e31e43754",
   "metadata": {},
   "outputs": [],
   "source": [
    "result = cursor.fetchone()"
   ]
  },
  {
   "cell_type": "code",
   "execution_count": 13,
   "id": "3b4ea650-ba6f-4dbe-b01b-8228445e5b9e",
   "metadata": {},
   "outputs": [
    {
     "name": "stdout",
     "output_type": "stream",
     "text": [
      "table exists\n"
     ]
    }
   ],
   "source": [
    "if result:\n",
    "    print(\"table exists\")\n",
    "else:\n",
    "    print(\"table not exists\")"
   ]
  },
  {
   "cell_type": "code",
   "execution_count": 14,
   "id": "41e3fecd-ab7d-402e-978d-5ae4fc9544f0",
   "metadata": {},
   "outputs": [],
   "source": [
    "table_name = 'discount'"
   ]
  },
  {
   "cell_type": "code",
   "execution_count": 15,
   "id": "c6ad0d64-0f53-489f-84cf-529737cc4ccd",
   "metadata": {},
   "outputs": [],
   "source": [
    "query = f\"SELECT * FROM {table_name}\""
   ]
  },
  {
   "cell_type": "code",
   "execution_count": 16,
   "id": "2a6ea031-813a-4134-890a-fd6c57c4989e",
   "metadata": {},
   "outputs": [],
   "source": [
    "cursor.execute(query)\n",
    " "
   ]
  },
  {
   "cell_type": "code",
   "execution_count": 17,
   "id": "ff20d72f-a04f-4e6d-8b7b-946234c49d3f",
   "metadata": {},
   "outputs": [],
   "source": [
    "result = cursor.fetchall()"
   ]
  },
  {
   "cell_type": "code",
   "execution_count": 18,
   "id": "15e9271b-cdc0-41f8-8308-f1709460ec13",
   "metadata": {},
   "outputs": [
    {
     "name": "stdout",
     "output_type": "stream",
     "text": [
      "('January', 'none', 0)\n",
      "('January', 'low', 6)\n",
      "('January', 'medium', 10)\n",
      "('January', 'high', 5)\n",
      "('February', 'none', 0)\n",
      "('February', 'low', 6)\n",
      "('February', 'medium', 11)\n",
      "('February', 'high', 5)\n",
      "('March', 'none', 0)\n",
      "('March', 'low', 6)\n",
      "('March', 'medium', 4)\n",
      "('March', 'high', 15)\n",
      "('April', 'none', 0)\n",
      "('April', 'low', 3)\n",
      "('April', 'medium', 8)\n",
      "('April', 'high', 15)\n",
      "('May', 'none', 0)\n",
      "('May', 'low', 7)\n",
      "('May', 'medium', 11)\n",
      "('May', 'high', 9)\n",
      "('June', 'none', 0)\n",
      "('June', 'low', 6)\n",
      "('June', 'medium', 4)\n",
      "('June', 'high', 7)\n",
      "('July', 'none', 0)\n",
      "('July', 'low', 8)\n",
      "('July', 'medium', 9)\n",
      "('July', 'high', 20)\n",
      "('August', 'none', 0)\n",
      "('August', 'low', 8)\n",
      "('August', 'medium', 8)\n",
      "('August', 'high', 17)\n",
      "('September', 'none', 0)\n",
      "('September', 'low', 5)\n",
      "('September', 'medium', 7)\n",
      "('September', 'high', 12)\n",
      "('October', 'none', 0)\n",
      "('October', 'low', 9)\n",
      "('October', 'medium', 14)\n",
      "('October', 'high', 20)\n",
      "('November', 'none', 0)\n",
      "('November', 'low', 15)\n",
      "('November', 'medium', 19)\n",
      "('November', 'high', 24)\n",
      "('December', 'none', 0)\n",
      "('December', 'low', 14)\n",
      "('December', 'medium', 18)\n",
      "('December', 'high', 20)\n",
      "('January', 'none', 0)\n",
      "('January', 'low', 6)\n",
      "('January', 'medium', 10)\n",
      "('January', 'high', 5)\n",
      "('February', 'none', 0)\n",
      "('February', 'low', 6)\n",
      "('February', 'medium', 11)\n",
      "('February', 'high', 5)\n",
      "('March', 'none', 0)\n",
      "('March', 'low', 6)\n",
      "('March', 'medium', 4)\n",
      "('March', 'high', 15)\n",
      "('April', 'none', 0)\n",
      "('April', 'low', 3)\n",
      "('April', 'medium', 8)\n",
      "('April', 'high', 15)\n",
      "('May', 'none', 0)\n",
      "('May', 'low', 7)\n",
      "('May', 'medium', 11)\n",
      "('May', 'high', 9)\n",
      "('June', 'none', 0)\n",
      "('June', 'low', 6)\n",
      "('June', 'medium', 4)\n",
      "('June', 'high', 7)\n",
      "('July', 'none', 0)\n",
      "('July', 'low', 8)\n",
      "('July', 'medium', 9)\n",
      "('July', 'high', 20)\n",
      "('August', 'none', 0)\n",
      "('August', 'low', 8)\n",
      "('August', 'medium', 8)\n",
      "('August', 'high', 17)\n",
      "('September', 'none', 0)\n",
      "('September', 'low', 5)\n",
      "('September', 'medium', 7)\n",
      "('September', 'high', 12)\n",
      "('October', 'none', 0)\n",
      "('October', 'low', 9)\n",
      "('October', 'medium', 14)\n",
      "('October', 'high', 20)\n",
      "('November', 'none', 0)\n",
      "('November', 'low', 15)\n",
      "('November', 'medium', 19)\n",
      "('November', 'high', 24)\n",
      "('December', 'none', 0)\n",
      "('December', 'low', 14)\n",
      "('December', 'medium', 18)\n",
      "('December', 'high', 20)\n",
      "('January', 'none', 0)\n",
      "('January', 'low', 6)\n",
      "('January', 'medium', 10)\n",
      "('January', 'high', 5)\n",
      "('February', 'none', 0)\n",
      "('February', 'low', 6)\n",
      "('February', 'medium', 11)\n",
      "('February', 'high', 5)\n",
      "('March', 'none', 0)\n",
      "('March', 'low', 6)\n",
      "('March', 'medium', 4)\n",
      "('March', 'high', 15)\n",
      "('April', 'none', 0)\n",
      "('April', 'low', 3)\n",
      "('April', 'medium', 8)\n",
      "('April', 'high', 15)\n",
      "('May', 'none', 0)\n",
      "('May', 'low', 7)\n",
      "('May', 'medium', 11)\n",
      "('May', 'high', 9)\n",
      "('June', 'none', 0)\n",
      "('June', 'low', 6)\n",
      "('June', 'medium', 4)\n",
      "('June', 'high', 7)\n",
      "('July', 'none', 0)\n",
      "('July', 'low', 8)\n",
      "('July', 'medium', 9)\n",
      "('July', 'high', 20)\n",
      "('August', 'none', 0)\n",
      "('August', 'low', 8)\n",
      "('August', 'medium', 8)\n",
      "('August', 'high', 17)\n",
      "('September', 'none', 0)\n",
      "('September', 'low', 5)\n",
      "('September', 'medium', 7)\n",
      "('September', 'high', 12)\n",
      "('October', 'none', 0)\n",
      "('October', 'low', 9)\n",
      "('October', 'medium', 14)\n",
      "('October', 'high', 20)\n",
      "('November', 'none', 0)\n",
      "('November', 'low', 15)\n",
      "('November', 'medium', 19)\n",
      "('November', 'high', 24)\n",
      "('December', 'none', 0)\n",
      "('December', 'low', 14)\n",
      "('December', 'medium', 18)\n",
      "('December', 'high', 20)\n",
      "('January', 'none', 0)\n",
      "('January', 'low', 6)\n",
      "('January', 'medium', 10)\n",
      "('January', 'high', 5)\n",
      "('February', 'none', 0)\n",
      "('February', 'low', 6)\n",
      "('February', 'medium', 11)\n",
      "('February', 'high', 5)\n",
      "('March', 'none', 0)\n",
      "('March', 'low', 6)\n",
      "('March', 'medium', 4)\n",
      "('March', 'high', 15)\n",
      "('April', 'none', 0)\n",
      "('April', 'low', 3)\n",
      "('April', 'medium', 8)\n",
      "('April', 'high', 15)\n",
      "('May', 'none', 0)\n",
      "('May', 'low', 7)\n",
      "('May', 'medium', 11)\n",
      "('May', 'high', 9)\n",
      "('June', 'none', 0)\n",
      "('June', 'low', 6)\n",
      "('June', 'medium', 4)\n",
      "('June', 'high', 7)\n",
      "('July', 'none', 0)\n",
      "('July', 'low', 8)\n",
      "('July', 'medium', 9)\n",
      "('July', 'high', 20)\n",
      "('August', 'none', 0)\n",
      "('August', 'low', 8)\n",
      "('August', 'medium', 8)\n",
      "('August', 'high', 17)\n",
      "('September', 'none', 0)\n",
      "('September', 'low', 5)\n",
      "('September', 'medium', 7)\n",
      "('September', 'high', 12)\n",
      "('October', 'none', 0)\n",
      "('October', 'low', 9)\n",
      "('October', 'medium', 14)\n",
      "('October', 'high', 20)\n",
      "('November', 'none', 0)\n",
      "('November', 'low', 15)\n",
      "('November', 'medium', 19)\n",
      "('November', 'high', 24)\n",
      "('December', 'none', 0)\n",
      "('December', 'low', 14)\n",
      "('December', 'medium', 18)\n",
      "('December', 'high', 20)\n",
      "('January', 'none', 0)\n",
      "('January', 'low', 6)\n",
      "('January', 'medium', 10)\n",
      "('January', 'high', 5)\n",
      "('February', 'none', 0)\n",
      "('February', 'low', 6)\n",
      "('February', 'medium', 11)\n",
      "('February', 'high', 5)\n",
      "('March', 'none', 0)\n",
      "('March', 'low', 6)\n",
      "('March', 'medium', 4)\n",
      "('March', 'high', 15)\n",
      "('April', 'none', 0)\n",
      "('April', 'low', 3)\n",
      "('April', 'medium', 8)\n",
      "('April', 'high', 15)\n",
      "('May', 'none', 0)\n",
      "('May', 'low', 7)\n",
      "('May', 'medium', 11)\n",
      "('May', 'high', 9)\n",
      "('June', 'none', 0)\n",
      "('June', 'low', 6)\n",
      "('June', 'medium', 4)\n",
      "('June', 'high', 7)\n",
      "('July', 'none', 0)\n",
      "('July', 'low', 8)\n",
      "('July', 'medium', 9)\n",
      "('July', 'high', 20)\n",
      "('August', 'none', 0)\n",
      "('August', 'low', 8)\n",
      "('August', 'medium', 8)\n",
      "('August', 'high', 17)\n",
      "('September', 'none', 0)\n",
      "('September', 'low', 5)\n",
      "('September', 'medium', 7)\n",
      "('September', 'high', 12)\n",
      "('October', 'none', 0)\n",
      "('October', 'low', 9)\n",
      "('October', 'medium', 14)\n",
      "('October', 'high', 20)\n",
      "('November', 'none', 0)\n",
      "('November', 'low', 15)\n",
      "('November', 'medium', 19)\n",
      "('November', 'high', 24)\n",
      "('December', 'none', 0)\n",
      "('December', 'low', 14)\n",
      "('December', 'medium', 18)\n",
      "('December', 'high', 20)\n"
     ]
    }
   ],
   "source": [
    "if result:\n",
    "    for i in result:\n",
    "        print(i)\n",
    "else:\n",
    "    print(\"table not found\")"
   ]
  },
  {
   "cell_type": "code",
   "execution_count": 37,
   "id": "a71773c4-6a38-4895-bdb7-aa73adb21345",
   "metadata": {},
   "outputs": [],
   "source": [
    "product_query = \"\"\"\n",
    "    CREATE TABLE IF NOT EXISTS Products (\n",
    "        ProductID VARCHAR(255) NOT NULL,\n",
    "        Product VARCHAR(255) NOT NULL,\n",
    "        Category VARCHAR(255) NOT NULL,\n",
    "        Cost_Price VARCHAR(255) NOT NULL,\n",
    "        Sale_Price INT NOT NULL,\n",
    "        Brand VARCHAR(255) NOT NULL,\n",
    "        Description VARCHAR(255) NOT NULL\n",
    ");\n",
    "\"\"\""
   ]
  },
  {
   "cell_type": "code",
   "execution_count": 39,
   "id": "8bc8cd43-e01e-4129-9865-10dbe911e047",
   "metadata": {},
   "outputs": [],
   "source": [
    "cursor.execute(product_query)"
   ]
  },
  {
   "cell_type": "code",
   "execution_count": 40,
   "id": "654317ab-c385-41ac-a93d-6d4928252382",
   "metadata": {},
   "outputs": [],
   "source": [
    "connection.commit()"
   ]
  },
  {
   "cell_type": "code",
   "execution_count": 36,
   "id": "f329a07d-9854-459c-a70c-57253be1b2a0",
   "metadata": {},
   "outputs": [
    {
     "ename": "ProgrammingError",
     "evalue": "1064 (42000): You have an error in your SQL syntax; check the manual that corresponds to your MySQL server version for the right syntax to use near 'ID, Product, Category, Cost Price, Sale_Price, Brand, Description)' at line 8",
     "output_type": "error",
     "traceback": [
      "\u001b[0;31m---------------------------------------------------------------------------\u001b[0m",
      "\u001b[0;31mProgrammingError\u001b[0m                          Traceback (most recent call last)",
      "Cell \u001b[0;32mIn[36], line 2\u001b[0m\n\u001b[1;32m      1\u001b[0m file_path \u001b[38;5;241m=\u001b[39m \u001b[38;5;124m'\u001b[39m\u001b[38;5;124m/home/hp/Sql-Sales-Analysis/data/Product_data.csv\u001b[39m\u001b[38;5;124m'\u001b[39m\n\u001b[0;32m----> 2\u001b[0m \u001b[43mcursor\u001b[49m\u001b[38;5;241;43m.\u001b[39;49m\u001b[43mexecute\u001b[49m\u001b[43m(\u001b[49m\n\u001b[1;32m      3\u001b[0m \u001b[43m    \u001b[49m\u001b[38;5;124;43mf\u001b[39;49m\u001b[38;5;124;43m\"\"\"\u001b[39;49m\n\u001b[1;32m      4\u001b[0m \u001b[38;5;124;43m    LOAD DATA LOCAL INFILE \u001b[39;49m\u001b[38;5;124;43m'\u001b[39;49m\u001b[38;5;132;43;01m{\u001b[39;49;00m\u001b[43mfile_path\u001b[49m\u001b[38;5;132;43;01m}\u001b[39;49;00m\u001b[38;5;124;43m'\u001b[39;49m\n\u001b[1;32m      5\u001b[0m \u001b[38;5;124;43m    INTO TABLE discount\u001b[39;49m\n\u001b[1;32m      6\u001b[0m \u001b[38;5;124;43m    FIELDS TERMINATED BY \u001b[39;49m\u001b[38;5;124;43m'\u001b[39;49m\u001b[38;5;124;43m,\u001b[39;49m\u001b[38;5;124;43m'\u001b[39;49m\n\u001b[1;32m      7\u001b[0m \u001b[38;5;124;43m    ENCLOSED BY \u001b[39;49m\u001b[38;5;124;43m'\u001b[39;49m\u001b[38;5;124;43m\"\u001b[39;49m\u001b[38;5;124;43m'\u001b[39;49m\n\u001b[1;32m      8\u001b[0m \u001b[38;5;124;43m    LINES TERMINATED BY \u001b[39;49m\u001b[38;5;124;43m'\u001b[39;49m\u001b[38;5;130;43;01m\\n\u001b[39;49;00m\u001b[38;5;124;43m'\u001b[39;49m\n\u001b[1;32m      9\u001b[0m \u001b[38;5;124;43m    IGNORE 1 LINES\u001b[39;49m\n\u001b[1;32m     10\u001b[0m \u001b[38;5;124;43m    (Product ID, Product, Category, Cost Price, Sale_Price, Brand, Description)\u001b[39;49m\n\u001b[1;32m     11\u001b[0m \u001b[38;5;124;43m    \u001b[39;49m\u001b[38;5;124;43m\"\"\"\u001b[39;49m\u001b[43m)\u001b[49m\n",
      "File \u001b[0;32m~/.local/lib/python3.8/site-packages/mysql/connector/cursor.py:537\u001b[0m, in \u001b[0;36mMySQLCursor.execute\u001b[0;34m(self, operation, params, multi)\u001b[0m\n\u001b[1;32m    534\u001b[0m     \u001b[38;5;28;01mreturn\u001b[39;00m \u001b[38;5;28mself\u001b[39m\u001b[38;5;241m.\u001b[39m_execute_iter(\u001b[38;5;28mself\u001b[39m\u001b[38;5;241m.\u001b[39m_connection\u001b[38;5;241m.\u001b[39mcmd_query_iter(stmt))\n\u001b[1;32m    536\u001b[0m \u001b[38;5;28;01mtry\u001b[39;00m:\n\u001b[0;32m--> 537\u001b[0m     \u001b[38;5;28mself\u001b[39m\u001b[38;5;241m.\u001b[39m_handle_result(\u001b[38;5;28;43mself\u001b[39;49m\u001b[38;5;241;43m.\u001b[39;49m\u001b[43m_connection\u001b[49m\u001b[38;5;241;43m.\u001b[39;49m\u001b[43mcmd_query\u001b[49m\u001b[43m(\u001b[49m\u001b[43mstmt\u001b[49m\u001b[43m)\u001b[49m)\n\u001b[1;32m    538\u001b[0m \u001b[38;5;28;01mexcept\u001b[39;00m InterfaceError \u001b[38;5;28;01mas\u001b[39;00m err:\n\u001b[1;32m    539\u001b[0m     \u001b[38;5;28;01mif\u001b[39;00m \u001b[38;5;28mself\u001b[39m\u001b[38;5;241m.\u001b[39m_connection\u001b[38;5;241m.\u001b[39mhave_next_result:\n",
      "File \u001b[0;32m~/.local/lib/python3.8/site-packages/mysql/connector/opentelemetry/context_propagation.py:97\u001b[0m, in \u001b[0;36mwith_context_propagation.<locals>.wrapper\u001b[0;34m(cnx, *args, **kwargs)\u001b[0m\n\u001b[1;32m     95\u001b[0m \u001b[38;5;66;03m# pylint: disable=possibly-used-before-assignment\u001b[39;00m\n\u001b[1;32m     96\u001b[0m \u001b[38;5;28;01mif\u001b[39;00m \u001b[38;5;129;01mnot\u001b[39;00m OTEL_ENABLED \u001b[38;5;129;01mor\u001b[39;00m \u001b[38;5;129;01mnot\u001b[39;00m cnx\u001b[38;5;241m.\u001b[39motel_context_propagation:\n\u001b[0;32m---> 97\u001b[0m     \u001b[38;5;28;01mreturn\u001b[39;00m \u001b[43mmethod\u001b[49m\u001b[43m(\u001b[49m\u001b[43mcnx\u001b[49m\u001b[43m,\u001b[49m\u001b[43m \u001b[49m\u001b[38;5;241;43m*\u001b[39;49m\u001b[43margs\u001b[49m\u001b[43m,\u001b[49m\u001b[43m \u001b[49m\u001b[38;5;241;43m*\u001b[39;49m\u001b[38;5;241;43m*\u001b[39;49m\u001b[43mkwargs\u001b[49m\u001b[43m)\u001b[49m\n\u001b[1;32m     99\u001b[0m current_span \u001b[38;5;241m=\u001b[39m trace\u001b[38;5;241m.\u001b[39mget_current_span()\n\u001b[1;32m    100\u001b[0m tp_header \u001b[38;5;241m=\u001b[39m \u001b[38;5;28;01mNone\u001b[39;00m\n",
      "File \u001b[0;32m~/.local/lib/python3.8/site-packages/mysql/connector/connection.py:859\u001b[0m, in \u001b[0;36mMySQLConnection.cmd_query\u001b[0;34m(self, query, raw, buffered, raw_as_string)\u001b[0m\n\u001b[1;32m    857\u001b[0m query \u001b[38;5;241m=\u001b[39m \u001b[38;5;28mbytes\u001b[39m(packet)\n\u001b[1;32m    858\u001b[0m \u001b[38;5;28;01mtry\u001b[39;00m:\n\u001b[0;32m--> 859\u001b[0m     result \u001b[38;5;241m=\u001b[39m \u001b[38;5;28;43mself\u001b[39;49m\u001b[38;5;241;43m.\u001b[39;49m\u001b[43m_handle_result\u001b[49m\u001b[43m(\u001b[49m\u001b[38;5;28;43mself\u001b[39;49m\u001b[38;5;241;43m.\u001b[39;49m\u001b[43m_send_cmd\u001b[49m\u001b[43m(\u001b[49m\u001b[43mServerCmd\u001b[49m\u001b[38;5;241;43m.\u001b[39;49m\u001b[43mQUERY\u001b[49m\u001b[43m,\u001b[49m\u001b[43m \u001b[49m\u001b[43mquery\u001b[49m\u001b[43m)\u001b[49m\u001b[43m)\u001b[49m\n\u001b[1;32m    860\u001b[0m \u001b[38;5;28;01mexcept\u001b[39;00m ProgrammingError \u001b[38;5;28;01mas\u001b[39;00m err:\n\u001b[1;32m    861\u001b[0m     \u001b[38;5;28;01mif\u001b[39;00m err\u001b[38;5;241m.\u001b[39merrno \u001b[38;5;241m==\u001b[39m \u001b[38;5;241m3948\u001b[39m \u001b[38;5;129;01mand\u001b[39;00m \u001b[38;5;124m\"\u001b[39m\u001b[38;5;124mLoading local data is disabled\u001b[39m\u001b[38;5;124m\"\u001b[39m \u001b[38;5;129;01min\u001b[39;00m err\u001b[38;5;241m.\u001b[39mmsg:\n",
      "File \u001b[0;32m~/.local/lib/python3.8/site-packages/mysql/connector/connection.py:635\u001b[0m, in \u001b[0;36mMySQLConnection._handle_result\u001b[0;34m(self, packet)\u001b[0m\n\u001b[1;32m    633\u001b[0m     \u001b[38;5;28;01mreturn\u001b[39;00m \u001b[38;5;28mself\u001b[39m\u001b[38;5;241m.\u001b[39m_handle_eof(packet)\n\u001b[1;32m    634\u001b[0m \u001b[38;5;28;01mif\u001b[39;00m packet[\u001b[38;5;241m4\u001b[39m] \u001b[38;5;241m==\u001b[39m \u001b[38;5;241m255\u001b[39m:\n\u001b[0;32m--> 635\u001b[0m     \u001b[38;5;28;01mraise\u001b[39;00m get_exception(packet)\n\u001b[1;32m    637\u001b[0m \u001b[38;5;66;03m# We have a text result set\u001b[39;00m\n\u001b[1;32m    638\u001b[0m column_count \u001b[38;5;241m=\u001b[39m \u001b[38;5;28mself\u001b[39m\u001b[38;5;241m.\u001b[39m_protocol\u001b[38;5;241m.\u001b[39mparse_column_count(packet)\n",
      "\u001b[0;31mProgrammingError\u001b[0m: 1064 (42000): You have an error in your SQL syntax; check the manual that corresponds to your MySQL server version for the right syntax to use near 'ID, Product, Category, Cost Price, Sale_Price, Brand, Description)' at line 8"
     ]
    }
   ],
   "source": [
    "file_path = '/home/hp/Sql-Sales-Analysis/data/Product_data.csv'\n",
    "cursor.execute(\n",
    "    f\"\"\"\n",
    "    LOAD DATA LOCAL INFILE '{file_path}'\n",
    "    INTO TABLE discount\n",
    "    FIELDS TERMINATED BY ','\n",
    "    ENCLOSED BY '\"'\n",
    "    LINES TERMINATED BY '\\n'\n",
    "    IGNORE 1 LINES\n",
    "    (Product ID, Product, Category, Cost Price, Sale_Price, Brand, Description)\n",
    "    \"\"\")\n"
   ]
  },
  {
   "cell_type": "code",
   "execution_count": null,
   "id": "03cb44c7-4673-46b3-a2cd-ccac4c33a22e",
   "metadata": {},
   "outputs": [],
   "source": []
  }
 ],
 "metadata": {
  "kernelspec": {
   "display_name": "Python 3 (ipykernel)",
   "language": "python",
   "name": "python3"
  },
  "language_info": {
   "codemirror_mode": {
    "name": "ipython",
    "version": 3
   },
   "file_extension": ".py",
   "mimetype": "text/x-python",
   "name": "python",
   "nbconvert_exporter": "python",
   "pygments_lexer": "ipython3",
   "version": "3.8.10"
  }
 },
 "nbformat": 4,
 "nbformat_minor": 5
}
